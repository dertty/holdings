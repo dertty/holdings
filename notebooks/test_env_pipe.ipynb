{
 "cells": [
  {
   "cell_type": "code",
   "execution_count": 1,
   "id": "db98eca3-7929-4e3f-bd44-d2b864b3b9a6",
   "metadata": {
    "execution": {
     "iopub.execute_input": "2023-04-19T16:32:19.807088Z",
     "iopub.status.busy": "2023-04-19T16:32:19.806746Z",
     "iopub.status.idle": "2023-04-19T16:32:20.405508Z",
     "shell.execute_reply": "2023-04-19T16:32:20.405000Z",
     "shell.execute_reply.started": "2023-04-19T16:32:19.807063Z"
    },
    "tags": []
   },
   "outputs": [],
   "source": [
    "import random\n",
    "from itertools import combinations\n",
    "\n",
    "import pandas as pd\n",
    "import networkx as nx\n",
    "import tqdm\n",
    "\n",
    "import torch\n",
    "import torch.nn as nn\n",
    "import torch.nn.functional as F\n",
    "from torch import Tensor\n",
    "\n",
    "import torch_geometric.transforms as T\n",
    "from torch_geometric.data import HeteroData\n",
    "from torch_geometric.loader import LinkNeighborLoader\n",
    "from torch_geometric.transforms import RandomLinkSplit, ToUndirected\n",
    "from torch_geometric.loader import LinkNeighborLoader\n",
    "from torch_geometric.nn import SAGEConv, to_hetero\n",
    "\n",
    "from sklearn.metrics import roc_auc_score\n",
    "from sklearn.preprocessing import LabelEncoder"
   ]
  },
  {
   "cell_type": "code",
   "execution_count": 2,
   "id": "9990e5d7",
   "metadata": {},
   "outputs": [
    {
     "name": "stdout",
     "output_type": "stream",
     "text": [
      "Working dir:  c:\\Users\\aleksandr\\PycharmProjects\\development\\holdings\n"
     ]
    }
   ],
   "source": [
    "import os\n",
    "import sys\n",
    "from pathlib import Path\n",
    "\n",
    "\n",
    "project_dir = Path(os.getcwd()).parent\n",
    "os.chdir(project_dir)\n",
    "print('Working dir: ', os.getcwd())"
   ]
  },
  {
   "cell_type": "code",
   "execution_count": 3,
   "id": "6bf59218-927f-4b64-bcb2-fe7a99b0f802",
   "metadata": {
    "execution": {
     "iopub.execute_input": "2023-04-19T16:41:49.923989Z",
     "iopub.status.busy": "2023-04-19T16:41:49.923651Z",
     "iopub.status.idle": "2023-04-19T16:42:49.572049Z",
     "shell.execute_reply": "2023-04-19T16:42:49.571325Z",
     "shell.execute_reply.started": "2023-04-19T16:41:49.923961Z"
    },
    "tags": []
   },
   "outputs": [],
   "source": [
    "train_graph = torch.load('data/processed/train_synth')\n",
    "val_graph = torch.load('data/processed/val_synth')\n",
    "test_graph = torch.load('data/processed/test_synth')"
   ]
  },
  {
   "cell_type": "code",
   "execution_count": 4,
   "id": "971ac65f",
   "metadata": {},
   "outputs": [],
   "source": [
    "class GNN(torch.nn.Module):\n",
    "    def __init__(self, hidden_channels, num_layers=4, dropout=0.01):\n",
    "        super().__init__()\n",
    "        conv_model = SAGEConv\n",
    "\n",
    "        self.num_layers = num_layers\n",
    "        self.dropout = dropout\n",
    "        \n",
    "        self.convs = torch.nn.ModuleList()\n",
    "        self.convs.append(conv_model(hidden_channels, hidden_channels))\n",
    "        \n",
    "        assert (self.num_layers >= 1), 'Number of layers is not >=1'\n",
    "        for l in range(self.num_layers - 1):\n",
    "            self.convs.append(conv_model(hidden_channels, hidden_channels))\n",
    "        \n",
    "    def forward(self, x: Tensor, edge_index: Tensor) -> Tensor:\n",
    "        for i in range(self.num_layers - 1):\n",
    "            x = self.convs[i](x, edge_index)\n",
    "            x = F.relu(x)\n",
    "            x = F.dropout(x, p=self.dropout, training=self.training)\n",
    "        x = self.convs[-1](x, edge_index)\n",
    "        x = F.dropout(x, p=self.dropout, training=self.training)\n",
    "        return x\n",
    "\n",
    "\n",
    "class Classifier(torch.nn.Module):\n",
    "    def __init__(self, in_channels=64, hidden_channels=64, num_layers=10, dropout=0.1):\n",
    "        super(Classifier, self).__init__()\n",
    "        self.lins = torch.nn.ModuleList()\n",
    "        self.lins.append(torch.nn.Linear(in_channels, hidden_channels))\n",
    "        for _ in range(num_layers - 2):\n",
    "            self.lins.append(torch.nn.Linear(hidden_channels, hidden_channels))\n",
    "        self.lins.append(torch.nn.Linear(hidden_channels, 1))\n",
    "        self.dropout = dropout\n",
    "\n",
    "    def forward(self, x_user: Tensor, x_movie: Tensor, edge_label_index: Tensor) -> Tensor:\n",
    "        edge_feat_user = x_user[edge_label_index[0]]\n",
    "        edge_feat_movie = x_movie[edge_label_index[1]]\n",
    "        x = edge_feat_user * edge_feat_movie\n",
    "        for lin in self.lins[:-1]:\n",
    "            x = lin(x)\n",
    "            x = F.relu(x)\n",
    "            x = F.dropout(x, p=self.dropout, training=self.training)\n",
    "        x = self.lins[-1](x)\n",
    "        return x\n",
    "\n",
    "\n",
    "class Model(nn.Module):\n",
    "    def __init__(\n",
    "        self, \n",
    "        graph_metadata, \n",
    "        x_i_feats_num, x_j_feats_num,\n",
    "        hidden_channels=64, gnn_num_layers=4, gnn_dropout=0.3,\n",
    "        ):\n",
    "        super().__init__()\n",
    "\n",
    "        self.x_i_linear = nn.Linear(in_features=x_i_feats_num, out_features=hidden_channels)\n",
    "        self.x_j_linear = nn.Linear(in_features=x_j_feats_num, out_features=hidden_channels)\n",
    "\n",
    "        self.gnn = GNN(hidden_channels, num_layers=gnn_num_layers, dropout=gnn_dropout)\n",
    "        self.gnn = to_hetero(self.gnn, metadata=graph_metadata)\n",
    "        \n",
    "        self.classifier = Classifier()\n",
    "        \n",
    "    def forward(self, data: HeteroData) -> Tensor:\n",
    "        x_dict = {\n",
    "          \"client\": self.x_i_linear(data[\"client\"].x),\n",
    "        }\n",
    "\n",
    "        x_dict = self.gnn(x_dict, data.edge_index_dict)\n",
    "        pred = self.classifier(\n",
    "            x_dict[\"client\"],\n",
    "            x_dict[\"client\"],\n",
    "            data['client', 'community', 'client'].edge_label_index\n",
    "        )\n",
    "        return pred"
   ]
  },
  {
   "cell_type": "code",
   "execution_count": 5,
   "id": "dce7a117",
   "metadata": {},
   "outputs": [],
   "source": [
    "train_loader = LinkNeighborLoader(\n",
    "    data=train_graph,\n",
    "    num_neighbors=[10, 5],\n",
    "    neg_sampling_ratio=2.0,\n",
    "    edge_label_index=(('client', 'community', 'client'), train_graph['client', 'community', 'client'].edge_label_index),\n",
    "    edge_label=train_graph['client', 'community', 'client'].edge_label,\n",
    "    batch_size=1024,\n",
    "    shuffle=True,\n",
    ")"
   ]
  },
  {
   "cell_type": "code",
   "execution_count": 6,
   "id": "8cd76678",
   "metadata": {},
   "outputs": [
    {
     "name": "stderr",
     "output_type": "stream",
     "text": [
      "c:\\Users\\aleksandr\\PycharmProjects\\development\\holdings\\.venv\\lib\\site-packages\\torch_geometric\\nn\\to_hetero_transformer.py:165: UserWarning: The type '517ow' contains invalid characters which may lead to unexpected behavior. To avoid any issues, ensure that your types only contain letters, numbers and underscores.\n",
      "  warnings.warn(\n",
      "c:\\Users\\aleksandr\\PycharmProjects\\development\\holdings\\.venv\\lib\\site-packages\\torch_geometric\\nn\\to_hetero_transformer.py:165: UserWarning: The type '517owgd' contains invalid characters which may lead to unexpected behavior. To avoid any issues, ensure that your types only contain letters, numbers and underscores.\n",
      "  warnings.warn(\n",
      "c:\\Users\\aleksandr\\PycharmProjects\\development\\holdings\\.venv\\lib\\site-packages\\torch_geometric\\nn\\to_hetero_transformer.py:165: UserWarning: The type '517' contains invalid characters which may lead to unexpected behavior. To avoid any issues, ensure that your types only contain letters, numbers and underscores.\n",
      "  warnings.warn(\n",
      "c:\\Users\\aleksandr\\PycharmProjects\\development\\holdings\\.venv\\lib\\site-packages\\torch_geometric\\nn\\to_hetero_transformer.py:165: UserWarning: The type '511' contains invalid characters which may lead to unexpected behavior. To avoid any issues, ensure that your types only contain letters, numbers and underscores.\n",
      "  warnings.warn(\n",
      "c:\\Users\\aleksandr\\PycharmProjects\\development\\holdings\\.venv\\lib\\site-packages\\torch_geometric\\nn\\to_hetero_transformer.py:165: UserWarning: The type '515' contains invalid characters which may lead to unexpected behavior. To avoid any issues, ensure that your types only contain letters, numbers and underscores.\n",
      "  warnings.warn(\n",
      "c:\\Users\\aleksandr\\PycharmProjects\\development\\holdings\\.venv\\lib\\site-packages\\torch_geometric\\nn\\to_hetero_transformer.py:165: UserWarning: The type '515g' contains invalid characters which may lead to unexpected behavior. To avoid any issues, ensure that your types only contain letters, numbers and underscores.\n",
      "  warnings.warn(\n",
      "c:\\Users\\aleksandr\\PycharmProjects\\development\\holdings\\.venv\\lib\\site-packages\\torch_geometric\\nn\\to_hetero_transformer.py:165: UserWarning: The type '514' contains invalid characters which may lead to unexpected behavior. To avoid any issues, ensure that your types only contain letters, numbers and underscores.\n",
      "  warnings.warn(\n",
      "100%|██████████| 2/2 [00:00<00:00, 18.00it/s]"
     ]
    },
    {
     "name": "stdout",
     "output_type": "stream",
     "text": [
      "Epoch: 001, Loss: 0.6808\n"
     ]
    },
    {
     "name": "stderr",
     "output_type": "stream",
     "text": [
      "\n"
     ]
    }
   ],
   "source": [
    "device = torch.device('cuda' if torch.cuda.is_available() else 'cpu')\n",
    "\n",
    "model = Model(graph_metadata=train_graph.metadata(), x_i_feats_num=train_graph['client'].x.shape[1], x_j_feats_num=train_graph['client'].x.shape[1],)\n",
    "model = model.to(device)\n",
    "optimizer = torch.optim.Adam(model.parameters(), lr=0.001)\n",
    "loss_fn = torch.nn.BCEWithLogitsLoss().to(device)\n",
    "\n",
    "for epoch in range(1, 2):\n",
    "    total_loss = total_examples = 0\n",
    "    for sampled_data in tqdm.tqdm(train_loader):\n",
    "        optimizer.zero_grad()\n",
    "        sampled_data.to(device)\n",
    "        pred = model(sampled_data)\n",
    "        ground_truth = sampled_data['client', 'community', 'client'].edge_label\n",
    "        loss = loss_fn(pred, ground_truth.reshape(-1,1))\n",
    "        # loss = F.binary_cross_entropy_with_logits(pred.flatten(), ground_truth)\n",
    "        loss.backward()\n",
    "        optimizer.step()\n",
    "        total_loss += float(loss) * pred.numel()\n",
    "        total_examples += pred.numel()\n",
    "    print(f\"Epoch: {epoch:03d}, Loss: {total_loss / total_examples:.4f}\")"
   ]
  },
  {
   "cell_type": "code",
   "execution_count": 7,
   "id": "c557966b",
   "metadata": {},
   "outputs": [
    {
     "name": "stderr",
     "output_type": "stream",
     "text": [
      "100%|██████████| 3/3 [00:00<00:00, 64.10it/s]"
     ]
    },
    {
     "name": "stdout",
     "output_type": "stream",
     "text": [
      "Validation AUC: 0.5005\n"
     ]
    },
    {
     "name": "stderr",
     "output_type": "stream",
     "text": [
      "\n"
     ]
    }
   ],
   "source": [
    "val_loader = LinkNeighborLoader(\n",
    "    data=val_graph,\n",
    "    num_neighbors=[10, 5],\n",
    "    edge_label_index=(('client', 'community', 'client'), val_graph['client', 'community', 'client'].edge_label_index),\n",
    "    edge_label=val_graph['client', 'community', 'client'].edge_label,\n",
    "    batch_size=3 * 512,\n",
    "    shuffle=False,\n",
    ")\n",
    "\n",
    "preds = []\n",
    "ground_truths = []\n",
    "for sampled_data in tqdm.tqdm(val_loader):\n",
    "    with torch.no_grad():\n",
    "        sampled_data.to(device)\n",
    "        preds.append(torch.sigmoid(model(sampled_data)))\n",
    "        ground_truths.append(sampled_data['client', 'community', 'client'].edge_label)\n",
    "pred = torch.cat(preds, dim=0).cpu().numpy()\n",
    "ground_truth = torch.cat(ground_truths, dim=0).cpu().numpy()\n",
    "auc = roc_auc_score(ground_truth, pred)\n",
    "print(f\"Validation AUC: {auc:.4f}\")"
   ]
  },
  {
   "cell_type": "code",
   "execution_count": 8,
   "id": "92c931c3",
   "metadata": {},
   "outputs": [],
   "source": [
    "train_graph.validate()\n",
    "\n",
    "del train_graph['client', 'community', 'client']['edge_label']\n",
    "del train_graph['client', 'community', 'client']['edge_label_index']\n",
    "\n",
    "transform = T.RandomLinkSplit(\n",
    "    num_val=0.1,\n",
    "    num_test=0.1,\n",
    "    disjoint_train_ratio=0.3,\n",
    "    neg_sampling_ratio=1.0,\n",
    "    add_negative_train_samples=True,\n",
    "    edge_types=('client', 'community', 'client'),\n",
    ")\n",
    "\n",
    "_, _, _ = transform(train_graph)"
   ]
  },
  {
   "cell_type": "code",
   "execution_count": null,
   "id": "f753515b",
   "metadata": {},
   "outputs": [],
   "source": []
  }
 ],
 "metadata": {
  "kernelspec": {
   "display_name": ".venv",
   "language": "python",
   "name": "python3"
  },
  "language_info": {
   "codemirror_mode": {
    "name": "ipython",
    "version": 3
   },
   "file_extension": ".py",
   "mimetype": "text/x-python",
   "name": "python",
   "nbconvert_exporter": "python",
   "pygments_lexer": "ipython3",
   "version": "3.8.10"
  }
 },
 "nbformat": 4,
 "nbformat_minor": 5
}
